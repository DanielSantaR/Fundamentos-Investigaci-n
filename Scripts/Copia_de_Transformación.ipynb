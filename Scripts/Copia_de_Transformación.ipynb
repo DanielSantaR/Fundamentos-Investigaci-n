{
 "cells": [
  {
   "cell_type": "code",
   "execution_count": 1,
   "metadata": {
    "colab": {},
    "colab_type": "code",
    "id": "qktjyAy127CZ"
   },
   "outputs": [],
   "source": [
    "import pandas as pd\n",
    "import numpy as np"
   ]
  },
  {
   "cell_type": "code",
   "execution_count": 5,
   "metadata": {
    "colab": {
     "base_uri": "https://localhost:8080/",
     "height": 289
    },
    "colab_type": "code",
    "id": "4_YMNL6X4Xc1",
    "outputId": "f9b58a3b-9883-47df-d13c-4266a8fd29cf"
   },
   "outputs": [],
   "source": [
    "db = pd.read_excel('Opiniones_Hoteles_Medellin.xlsx')\n",
    "db.columns=['texto','sentimiento']\n",
    "db_data = db.iloc[:,0]\n",
    "db_target = db.iloc[:,1]"
   ]
  },
  {
   "cell_type": "code",
   "execution_count": 8,
   "metadata": {
    "colab": {
     "base_uri": "https://localhost:8080/",
     "height": 153
    },
    "colab_type": "code",
    "id": "DIMRp0gi4d8d",
    "outputId": "5755ed7a-f06c-40b5-d7f8-65c2d2f52175"
   },
   "outputs": [],
   "source": [
    "emb_pd = pd.read_csv('Copia de SBW-vectors-300-min5.txt', delimiter = \"\\t\", error_bad_lines=False,header=None)\n",
    "emb = emb_pd.iloc[:,0]"
   ]
  },
  {
   "cell_type": "markdown",
   "metadata": {
    "colab_type": "text",
    "id": "E7x9p5ZS4gt8"
   },
   "source": [
    "# Embeddings"
   ]
  },
  {
   "cell_type": "code",
   "execution_count": 9,
   "metadata": {
    "colab": {},
    "colab_type": "code",
    "id": "qveKtYR34qps"
   },
   "outputs": [],
   "source": [
    "#Quitar caracteres especiales\n",
    "def clean(doc):  \n",
    "    doc=doc.replace(\",\", \"\")\n",
    "    doc=doc.replace(\".\", \"\")\n",
    "    doc=doc.replace(\"#\", \"\")\n",
    "    doc=doc.replace(\"!\", \"\")\n",
    "    doc=doc.replace(\"¡\", \"\")\n",
    "    doc=doc.replace(\"?\", \"\")\n",
    "    doc=doc.replace(\"¿\", \"\")\n",
    "    doc=doc.replace(\"$\", \"\")\n",
    "    doc=doc.replace(\"%\", \"\")\n",
    "    doc=doc.replace(\"/\", \"\")\n",
    "    doc=doc.replace(\")\", \"\")\n",
    "    doc=doc.replace(\"(\", \"\")\n",
    "    doc=doc.replace(\";\", \"\")\n",
    "    doc=doc.replace(\":\", \"\")\n",
    "    doc=doc.replace(\"=\", \"\")\n",
    "    doc=doc.replace(\"+\", \"\")\n",
    "    doc=doc.replace(\"-\", \"\")\n",
    "    doc=doc.replace(\"'\", \"\")\n",
    "    doc=doc.replace(\"@\", \"\")\n",
    "    doc=doc.replace('\"', '')\n",
    "    doc=doc.replace('“', \"\")\n",
    "    doc=doc.replace('”', \"\")  \n",
    "    doc=doc.replace('*', \"\")\n",
    "    doc=doc.replace('_', \"\")\n",
    "    doc=doc.replace(']', \"\")\n",
    "    doc=doc.replace('[', \"\")\n",
    "    doc=doc.replace('}', \"\")\n",
    "    doc=doc.replace('{', \"\")\n",
    "    return (doc)"
   ]
  },
  {
   "cell_type": "code",
   "execution_count": 14,
   "metadata": {},
   "outputs": [],
   "source": [
    "i=0\n",
    "matriz = [\"\" for x in range(db_data.shape[0])]\n",
    "for doc in db_data:\n",
    "    doc=clean(doc)  \n",
    "    words=doc.split()    \n",
    "    for word in words:    \n",
    "        for emb_doc in emb:\n",
    "            emb_word=emb_doc.split()[0]\n",
    "            emb_features_word = emb_doc.replace(emb_doc.split()[0], \"\", 1)       \n",
    "            if(word==emb_word):\n",
    "                matriz[i]=matriz[i]+emb_features_word\n",
    "                break    \n",
    "    i=i+1"
   ]
  },
  {
   "cell_type": "code",
   "execution_count": 15,
   "metadata": {
    "colab": {},
    "colab_type": "code",
    "id": "ZCyOWXOd3QeO"
   },
   "outputs": [],
   "source": [
    "#matriz es la matriz que tienen todos los features de cada opinion\n",
    "def mayor(matriz):\n",
    "    mayor=0\n",
    "    for features in matriz:\n",
    "        l=len(features.split())\n",
    "        if mayor<l:\n",
    "            mayor=len(features.split())\n",
    "    return mayor"
   ]
  },
  {
   "cell_type": "code",
   "execution_count": 16,
   "metadata": {
    "colab": {},
    "colab_type": "code",
    "id": "X728jZ5T4_mk"
   },
   "outputs": [],
   "source": [
    "m=mayor(matriz)\n",
    "embedding = np.zeros((db_data.shape[0], m))\n",
    "i=0\n",
    "for features in matriz:\n",
    "    j=0\n",
    "    for feature in features.split():\n",
    "        embedding[i,j]=float(feature)\n",
    "        j=j+1  \n",
    "    i=i+1"
   ]
  },
  {
   "cell_type": "code",
   "execution_count": 0,
   "metadata": {
    "colab": {
     "base_uri": "https://localhost:8080/",
     "height": 34
    },
    "colab_type": "code",
    "id": "RkNekZL6FjGe",
    "outputId": "2bb4c775-3efd-4151-a0b3-ba730bd04e6f"
   },
   "outputs": [
    {
     "name": "stdout",
     "output_type": "stream",
     "text": [
      "-0.003706\n"
     ]
    }
   ],
   "source": [
    "#print(embedding[0,1])\n",
    "#embedding.shape\n",
    "#for algo in range (embedding.shape[0]):\n",
    "#  print(embedding[algo,:])"
   ]
  },
  {
   "cell_type": "code",
   "execution_count": 17,
   "metadata": {
    "colab": {},
    "colab_type": "code",
    "id": "IC0frt998btW"
   },
   "outputs": [],
   "source": [
    "import pandas as pd\n",
    "dataframe = pd.DataFrame(data=embedding.astype(float))\n",
    "dataframe.to_csv('embedding.csv', sep='\\t', header=False, index=False)"
   ]
  }
 ],
 "metadata": {
  "colab": {
   "collapsed_sections": [],
   "name": "Copia de Transformación",
   "provenance": []
  },
  "kernelspec": {
   "display_name": "Python 3",
   "language": "python",
   "name": "python3"
  },
  "language_info": {
   "codemirror_mode": {
    "name": "ipython",
    "version": 3
   },
   "file_extension": ".py",
   "mimetype": "text/x-python",
   "name": "python",
   "nbconvert_exporter": "python",
   "pygments_lexer": "ipython3",
   "version": "3.7.3"
  }
 },
 "nbformat": 4,
 "nbformat_minor": 1
}
